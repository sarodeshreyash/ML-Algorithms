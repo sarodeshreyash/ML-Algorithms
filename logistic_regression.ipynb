{
  "nbformat": 4,
  "nbformat_minor": 0,
  "metadata": {
    "colab": {
      "provenance": [],
      "authorship_tag": "ABX9TyOoGEwfXX/SdTkK7AwzZejp"
    },
    "kernelspec": {
      "name": "python3",
      "display_name": "Python 3"
    },
    "language_info": {
      "name": "python"
    }
  },
  "cells": [
    {
      "cell_type": "markdown",
      "source": [
        "# **Logistics Regression**"
      ],
      "metadata": {
        "id": "_qEENNrlljKJ"
      }
    },
    {
      "cell_type": "markdown",
      "source": [
        "**1. What Are the Basic Assumption?**\n",
        "\n",
        "Linear Relation between independent features and the log odds"
      ],
      "metadata": {
        "id": "JfZ92lR0loYl"
      }
    },
    {
      "cell_type": "markdown",
      "source": [
        "**2. Advantages**\n",
        "\n",
        "\n",
        "\n",
        "Logistic Regression Are very easy to understand\n",
        "\n",
        "It requires less training\n",
        "\n",
        "Good accuracy for many simple data sets and it performs well when the dataset is linearly separable.\n",
        "\n",
        "It makes no assumptions about distributions of classes in feature space.\n",
        "\n",
        "Logistic regression is less inclined to over-fitting but it can overfit in high dimensional datasets.One may consider Regularization (L1 and L2) techniques to avoid over-fittingin these scenarios.\n",
        "\n",
        "Logistic regression is easier to implement, interpret, and very efficient to train."
      ],
      "metadata": {
        "id": "DWsHxYRflwjl"
      }
    },
    {
      "cell_type": "markdown",
      "source": [
        "**3. Disadvantages**\n",
        "\n",
        "Sometimes Lot of Feature Engineering Is required\n",
        "\n",
        "If the independent features are correlated it may affect performance\n",
        "\n",
        "It is often quite prone to noise and overfitting\n",
        "\n",
        "If the number of observations is lesser than the number of features, Logistic Regression should not be used, otherwise, it may lead to overfitting.\n",
        "Non-linear problems can’t be solved with logistic regression because it has a linear decision surface. Linearly separable data is rarely found in real-world scenarios.\n",
        "\n",
        "It is tough to obtain complex relationships using logistic regression. More powerful and compact algorithms such as Neural Networks can easily outperform this algorithm.\n",
        "\n",
        "In Linear Regression independent and dependent variables are related linearly. But Logistic Regression needs that independent variables are linearly related to the log odds (log(p/(1-p))."
      ],
      "metadata": {
        "id": "oPtoHo_Pl2Cv"
      }
    },
    {
      "cell_type": "markdown",
      "source": [
        "**4. Whether Feature Scaling is required?**\n",
        "\n",
        "yes"
      ],
      "metadata": {
        "id": "a7U9DhNxmE7b"
      }
    },
    {
      "cell_type": "markdown",
      "source": [
        "**5. Missing Values**\n",
        "\n",
        "Sensitive to missing values"
      ],
      "metadata": {
        "id": "9EfrH0AdmHOi"
      }
    },
    {
      "cell_type": "markdown",
      "source": [
        "**6. Impact of outliers?**\n",
        "\n",
        "Like linear regression, estimates of the logistic regression are sensitive to the unusual observations: outliers, high leverage, and influential observations. \n",
        "\n",
        "Numerical examples and analysis are presented to demonstrate the most recent outlier diagnostic methods using data sets from medical domain"
      ],
      "metadata": {
        "id": "tQ0gwTXTmLHy"
      }
    },
    {
      "cell_type": "markdown",
      "source": [
        "**Types of Problems it can solve(Supervised)**\n",
        "\n",
        "Classification"
      ],
      "metadata": {
        "id": "nUa5qEQ9mYPz"
      }
    },
    {
      "cell_type": "markdown",
      "source": [
        "**Performance Metrics**\n",
        "\n",
        "Confusion Matrix\n",
        "\n",
        "Precision,Recall, F1 score"
      ],
      "metadata": {
        "id": "bkgD84F7mc_a"
      }
    }
  ]
}