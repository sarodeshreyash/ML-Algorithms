{
  "nbformat": 4,
  "nbformat_minor": 0,
  "metadata": {
    "colab": {
      "provenance": [],
      "authorship_tag": "ABX9TyPP9r6XcWRyh+JMjPztqnDf"
    },
    "kernelspec": {
      "name": "python3",
      "display_name": "Python 3"
    },
    "language_info": {
      "name": "python"
    }
  },
  "cells": [
    {
      "cell_type": "markdown",
      "source": [
        "**Random Forest Classifier And Regresor**\n",
        "\n",
        "Ensemble Techniques(Boosting And Bagging)\n",
        "\n",
        "Working of Random Forest Classifier\n",
        "\n",
        "Working of Random Forest Regresor\n",
        "\n",
        "Hyperparameter Tuning(Grid Search And RandomSearch)"
      ],
      "metadata": {
        "id": "khcDWBp_qGv1"
      }
    },
    {
      "cell_type": "markdown",
      "source": [
        "**Important properties of Random Forest Classifiers**\n",
        "\n",
        "Decision Tree---Low Bias And High Variance\n",
        "\n",
        "Ensemble Bagging(Random Forest Classifier)--Low Bias And Low Variance"
      ],
      "metadata": {
        "id": "Ooxdh1DbqWmz"
      }
    },
    {
      "cell_type": "markdown",
      "source": [
        "**1. What Are the Basic Assumption?**\n",
        "\n",
        "There are no such assumptions"
      ],
      "metadata": {
        "id": "7uz_V_V3qeRj"
      }
    },
    {
      "cell_type": "markdown",
      "source": [
        "**2. Advantages**\n",
        "\n",
        "\n",
        "Doesn't Overfit\n",
        "\n",
        "Favourite algorithm for Kaggle competition\n",
        "\n",
        "Less Parameter Tuning required\n",
        "\n",
        "Decision Tree can handle both continuous and categorical variables.\n",
        "\n",
        "No feature scaling required: No feature scaling (standardization and normalization) required in case of Random Forest as it uses DEcision Tree internally\n",
        "\n",
        "Suitable for any kind of ML problems"
      ],
      "metadata": {
        "id": "BLs1k7ozqi_L"
      }
    },
    {
      "cell_type": "markdown",
      "source": [
        "**3. Disadvantages**\n",
        "\n",
        "\n",
        "1.Biased With features having many categories\n",
        "\n",
        "Biased in multiclass classification problems towards more frequent classes."
      ],
      "metadata": {
        "id": "CJgq0QsXqlWA"
      }
    },
    {
      "cell_type": "markdown",
      "source": [
        "**4. Whether Feature Scaling is required?**\n",
        "\n",
        "No\n",
        "\n"
      ],
      "metadata": {
        "id": "nfKfxPC6qsiM"
      }
    },
    {
      "cell_type": "markdown",
      "source": [
        "**6. Impact of outliers?**\n",
        "\n",
        "Robust to Outliers\n",
        "\n"
      ],
      "metadata": {
        "id": "Zb4iseQtqunD"
      }
    },
    {
      "cell_type": "markdown",
      "source": [
        "**Types of Problems it can solve(Supervised)**\n",
        "\n",
        "Classification\n",
        "\n",
        "Regression"
      ],
      "metadata": {
        "id": "NOMmkotbqwFK"
      }
    },
    {
      "cell_type": "markdown",
      "source": [
        "**Performance Metrics**\n",
        "\n",
        "**Classification**\n",
        "\n",
        "Confusion Matrix\n",
        "\n",
        "Precision,Recall, F1 score\n",
        "\n",
        "**Regression**\n",
        "\n",
        "R2,Adjusted R2\n",
        "\n",
        "MSE,RMSE,MAE"
      ],
      "metadata": {
        "id": "UY2BRv8rq1kC"
      }
    }
  ]
}