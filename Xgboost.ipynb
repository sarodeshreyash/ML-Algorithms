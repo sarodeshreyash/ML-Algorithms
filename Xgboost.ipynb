{
  "nbformat": 4,
  "nbformat_minor": 0,
  "metadata": {
    "colab": {
      "provenance": [],
      "authorship_tag": "ABX9TyMy2FBtO4+CGGppxIOOA7bF"
    },
    "kernelspec": {
      "name": "python3",
      "display_name": "Python 3"
    },
    "language_info": {
      "name": "python"
    }
  },
  "cells": [
    {
      "cell_type": "markdown",
      "source": [
        "# **Xgboost Classifier And Regressor, GB Algorithm, Adaboost**"
      ],
      "metadata": {
        "id": "Hyg49QHHrJh2"
      }
    },
    {
      "cell_type": "markdown",
      "source": [
        "**1. What Are the Basic Assumption?**\n",
        "\n",
        "There are no such assumptions"
      ],
      "metadata": {
        "id": "fWHUjF_crLq2"
      }
    },
    {
      "cell_type": "markdown",
      "source": [
        "**Missing Values**\n",
        "\n",
        "Adaboost can handle mising values\n",
        "\n",
        "Xgboosst and GBoost cannot handle missing values"
      ],
      "metadata": {
        "id": "KKlsqlj4rRBu"
      }
    },
    {
      "cell_type": "markdown",
      "source": [
        "**2. Advantages**\n",
        "Advantages of **Adaboost** \n",
        "\n",
        "Doesn't Overfit\n",
        "\n",
        "It has few parameters to tune\n",
        "\n",
        "**Advantages of Gradient Boost And Xgboost**\n",
        "\n",
        "It has a great performance\n",
        "\n",
        "It can solve complex non linear functions\n",
        "\n",
        "It is better in solve any kind of ML usecases."
      ],
      "metadata": {
        "id": "fVbFASFErTJw"
      }
    },
    {
      "cell_type": "markdown",
      "source": [
        "**3. Disadvantages**\n",
        "\n",
        "Disadvantages of Gradient Boosting And Xgboost\n",
        "\n",
        "1.It requires some amount of parameter tuning"
      ],
      "metadata": {
        "id": "UBHP2CUOrboi"
      }
    },
    {
      "cell_type": "markdown",
      "source": [
        "**4. Whether Feature Scaling is required?**\n",
        "\n",
        "No"
      ],
      "metadata": {
        "id": "HjvjSD8rrgZG"
      }
    },
    {
      "cell_type": "markdown",
      "source": [
        "**6. Impact of outliers?**\n",
        "\n",
        "Robust to Outliers in Gradient Boosting And Xgboost, Sensitive to outliers in Adaboost"
      ],
      "metadata": {
        "id": "FZ9jDzzsrk97"
      }
    },
    {
      "cell_type": "markdown",
      "source": [
        "**Types of Problems it can solve(Supervised)**\n",
        "\n",
        "Classification\n",
        "\n",
        "Regression"
      ],
      "metadata": {
        "id": "yS0R48m-ro22"
      }
    },
    {
      "cell_type": "markdown",
      "source": [
        "**Performance Metrics**\n",
        "\n",
        "**Classification**\n",
        "\n",
        "Confusion Matrix\n",
        "\n",
        "Precision,Recall, F1 score\n",
        "\n",
        "**Regression**\n",
        "\n",
        "R2,Adjusted R2\n",
        "\n",
        "MSE,RMSE,MAE"
      ],
      "metadata": {
        "id": "M76KQryjryIc"
      }
    }
  ]
}