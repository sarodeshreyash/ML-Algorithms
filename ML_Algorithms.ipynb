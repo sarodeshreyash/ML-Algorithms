{
  "nbformat": 4,
  "nbformat_minor": 0,
  "metadata": {
    "colab": {
      "provenance": [],
      "authorship_tag": "ABX9TyMyF+61RQpDKKAjsaEjfZCo"
    },
    "kernelspec": {
      "name": "python3",
      "display_name": "Python 3"
    },
    "language_info": {
      "name": "python"
    }
  },
  "cells": [
    {
      "cell_type": "markdown",
      "source": [
        "# **Machine Learning Algorithms**"
      ],
      "metadata": {
        "id": "DVe-3kaIpT9I"
      }
    },
    {
      "cell_type": "markdown",
      "source": [
        "### **1. Linear Regression**"
      ],
      "metadata": {
        "id": "isx_u4DupYZS"
      }
    },
    {
      "cell_type": "markdown",
      "source": [
        "Linear regression is one of the easiest and most popular Machine Learning algorithms. It is a statistical method that is used for predictive analysis."
      ],
      "metadata": {
        "id": "a5K_TePHpuE6"
      }
    },
    {
      "cell_type": "markdown",
      "source": [
        "**1. What Are the Basic Assumption?**\n",
        "\n",
        "There are four assumptions associated with a linear regression model:\n",
        "\n",
        "\n",
        "**Linearity:** The relationship between X and the mean of Y is linear.\n",
        "\n",
        "**Homoscedasticity:** The variance of residual is the same for any value of X.\n",
        "\n",
        "**Independence:** Observations are independent of each other.\n",
        "\n",
        "**Normality:** For any fixed value of X, Y is normally distributed.\n",
        "\n",
        "\n"
      ],
      "metadata": {
        "id": "rnTPJyLipdI3"
      }
    },
    {
      "cell_type": "markdown",
      "source": [
        "**2. Advantages**\n",
        "\n",
        "Linear regression performs exceptionally well for linearly separable data\n",
        "\n",
        "Easy to implement and train the model\n",
        "\n",
        "It can handle overfitting using dimensionlity reduction techniques and cross validation and regularization"
      ],
      "metadata": {
        "id": "NQEn2n7eqR49"
      }
    },
    {
      "cell_type": "markdown",
      "source": [
        "**3. Disadvantages**\n",
        "\n",
        "\n",
        "Sometimes Lot of Feature Engineering Is required\n",
        "\n",
        "If the independent features are correlated it may affect performance\n",
        "\n",
        "It is often quite prone to noise and overfitting"
      ],
      "metadata": {
        "id": "m8EqWFhbqWOG"
      }
    },
    {
      "cell_type": "markdown",
      "source": [
        "**4. Whether Feature Scaling is required?**\n",
        "\n",
        "Yes"
      ],
      "metadata": {
        "id": "iMBBtMI0qczO"
      }
    },
    {
      "cell_type": "markdown",
      "source": [
        "**5. Impact of Missing Values?**\n",
        "\n",
        "It is sensitive to missing values"
      ],
      "metadata": {
        "id": "v50FhLZpqg0b"
      }
    },
    {
      "cell_type": "markdown",
      "source": [
        "**6. Impact of outliers?**\n",
        "\n",
        "linear regression needs the relationship between the independent and dependent variables to be linear. It is also important to check for outliers since linear regression is sensitive to outlier effects."
      ],
      "metadata": {
        "id": "hRhUHID1qlE4"
      }
    },
    {
      "cell_type": "markdown",
      "source": [
        "**Types of Problems it can solve(Supervised)**\n",
        "\n",
        "Regression\n",
        "\n",
        "prone to Overfitting \n",
        "\n",
        "\n",
        "**Different Problem statement you can solve using Linear Regression**\n",
        "\n",
        "Advance House Price Prediction\n",
        "Flight Price Prediction"
      ],
      "metadata": {
        "id": "I64pP6LYqqms"
      }
    },
    {
      "cell_type": "markdown",
      "source": [
        "**7. Performance metrix**\n",
        "\n",
        "**R-squared**\n",
        "\n",
        "R-squared is a statistical method that determines the goodness of fit."
      ],
      "metadata": {
        "id": "qtof8BQwq4GZ"
      }
    }
  ]
}