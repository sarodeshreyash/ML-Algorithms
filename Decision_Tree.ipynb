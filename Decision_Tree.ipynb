{
  "nbformat": 4,
  "nbformat_minor": 0,
  "metadata": {
    "colab": {
      "provenance": [],
      "authorship_tag": "ABX9TyMp8bzvcnTSdxmD/WWieG+j"
    },
    "kernelspec": {
      "name": "python3",
      "display_name": "Python 3"
    },
    "language_info": {
      "name": "python"
    }
  },
  "cells": [
    {
      "cell_type": "markdown",
      "source": [
        "**Decision Tree Classifier And Regressor**\n",
        "**Interview Questions:**\n",
        "\n",
        "Decision Tree\n",
        "\n",
        "Entropy, Information Gain, Gini Impurity\n",
        "\n",
        "Decision Tree Working For Categorical and Numerical Features\n",
        "\n",
        "What are the scenarios where Decision Tree works well\n",
        "\n",
        "Decision Tree Low Bias And High Variance- Overfitting\n",
        "\n",
        "Hyperparameter Techniques\n",
        "\n",
        "Library used for constructing decision tree\n",
        "\n",
        "Impact of Outliers Of Decision Tree\n",
        "\n",
        "Impact of mising values on Decision Tree\n",
        "\n",
        "Does Decision Tree require Feature Scaling"
      ],
      "metadata": {
        "id": "kuR7cm3_o8ia"
      }
    },
    {
      "cell_type": "markdown",
      "source": [
        "**1. What Are the Basic Assumption?**\n",
        "\n",
        "There are no such assumptions"
      ],
      "metadata": {
        "id": "5i4IeMiKpLLo"
      }
    },
    {
      "cell_type": "markdown",
      "source": [
        "\n",
        "\n",
        "**2. Advantages**\n",
        "\n",
        "\n",
        "Clear Visualization: The algorithm is simple to understand, interpret and visualize as the idea is mostly used in our daily lives. Output of a Decision Tree can be easily interpreted by humans.\n",
        "\n",
        "Simple and easy to understand: Decision Tree looks like simple if-else statements which are very easy to understand.\n",
        "\n",
        "Decision Tree can be used for both classification and regression problems.\n",
        "\n",
        "Decision Tree can handle both continuous and categorical variables.\n",
        "\n",
        "No feature scaling required: No feature scaling (standardization and normalization) required in case of Decision Tree as it uses rule based approach instead of distance calculation.\n",
        "\n",
        "Handles non-linear parameters efficiently: Non linear parameters don't affect the performance of a Decision Tree unlike curve based algorithms. So, if there is high non-linearity between the independent variables, Decision Trees may outperform as compared to other curve based algorithms.\n",
        "\n",
        "Decision Tree can automatically handle missing values.\n",
        "\n",
        "Decision Tree is usually robust to outliers and can handle them automatically.\n",
        "\n",
        "Less Training Period: Training period is less as compared to Random Forest because it generates only one tree unlike forest of trees in the Random Forest."
      ],
      "metadata": {
        "id": "DcPbTMO8pHsW"
      }
    },
    {
      "cell_type": "markdown",
      "source": [
        "**3. Disadvantages**\n",
        "\n",
        "\n",
        "Overfitting: This is the main problem of the Decision Tree. It generally leads to overfitting of the data which ultimately leads to wrong predictions. In order to fit the data (even noisy data), it keeps generating new nodes and ultimately the tree becomes too complex to interpret. In this way, it loses its generalization capabilities. It performs very well on the trained data but starts making a lot of mistakes on the unseen data.\n",
        "\n",
        "High variance: As mentioned in point 1, Decision Tree generally leads to the overfitting of data. Due to the overfitting, there are very high chances of high variance in the output which leads to many errors in the final estimation and shows high inaccuracy in the results. In order to achieve zero bias (overfitting), it leads to high variance.\n",
        "\n",
        "Unstable: Adding a new data point can lead to re-generation of the overall tree and all nodes need to be recalculated and recreated.\n",
        "\n",
        "Not suitable for large datasets: If data size is large, then one single tree may grow complex and lead to overfitting. So in this case, we should use Random Forest instead of a single Decision Tree.\n",
        "\n",
        "\n",
        "\n",
        "\n",
        "\n"
      ],
      "metadata": {
        "id": "qebnMSUdpRTg"
      }
    },
    {
      "cell_type": "markdown",
      "source": [
        "**4. Whether Feature Scaling is required?**\n",
        "\n",
        "No"
      ],
      "metadata": {
        "id": "s8HfC3-tpVRk"
      }
    },
    {
      "cell_type": "markdown",
      "source": [
        "**6. Impact of outliers?**\n",
        "\n",
        "\n",
        "\n",
        "It is not sensitive to outliers.Since, extreme values or outliers, never cause much reduction in RSS, they are never involved in split. Hence, tree based methods are insensitive to outliers."
      ],
      "metadata": {
        "id": "1PgSGE_VpZbY"
      }
    },
    {
      "cell_type": "markdown",
      "source": [
        "**Types of Problems it can solve(Supervised)**\n",
        "\n",
        "Classification\n",
        "\n",
        "Regression\n"
      ],
      "metadata": {
        "id": "8PEZjITUpglQ"
      }
    },
    {
      "cell_type": "markdown",
      "source": [
        "**Overfitting And Underfitting**\n",
        "\n",
        "Prone to overfitting"
      ],
      "metadata": {
        "id": "trFSaBh0pkL0"
      }
    },
    {
      "cell_type": "markdown",
      "source": [
        "**Performance Metrics**\n",
        "\n",
        "Classification\n",
        "\n",
        "Confusion Matrix\n",
        "\n",
        "Precision,Recall, F1 score\n"
      ],
      "metadata": {
        "id": "byQtXq0rpzgf"
      }
    },
    {
      "cell_type": "markdown",
      "source": [
        "**Regression**\n",
        "\n",
        "R2,Adjusted R2\n",
        "\n",
        "MSE,RMSE,MAE"
      ],
      "metadata": {
        "id": "KTi6r_j5p1kr"
      }
    }
  ]
}