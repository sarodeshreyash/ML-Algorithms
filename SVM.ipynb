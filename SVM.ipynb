{
  "nbformat": 4,
  "nbformat_minor": 0,
  "metadata": {
    "colab": {
      "provenance": [],
      "authorship_tag": "ABX9TyPIwAPZCVUmgJKVYgOF7OtN"
    },
    "kernelspec": {
      "name": "python3",
      "display_name": "Python 3"
    },
    "language_info": {
      "name": "python"
    }
  },
  "cells": [
    {
      "cell_type": "markdown",
      "source": [
        "#**SVM**"
      ],
      "metadata": {
        "id": "EbnQGZC_m7Fi"
      }
    },
    {
      "cell_type": "markdown",
      "source": [
        "**1. What Are the Basic Assumption?**\n",
        "\n",
        "There are no such assumptions"
      ],
      "metadata": {
        "id": "KEQbku9OnBoP"
      }
    },
    {
      "cell_type": "markdown",
      "source": [
        "**2. Advantages**\n",
        "\n",
        "SVM is more effective in high dimensional spaces.\n",
        "\n",
        "SVM is relatively memory efficient.\n",
        "\n",
        "SVM’s are very good when we have no idea on the data.\n",
        "Works well with even unstructured and semi structured data like text, Images and trees.\n",
        "\n",
        "The kernel trick is real strength of SVM. With an appropriate kernel function, we can solve any complex problem.\n",
        "\n",
        "SVM models have generalization in practice, the risk of over-fitting is less in SVM."
      ],
      "metadata": {
        "id": "9MG42okAnITn"
      }
    },
    {
      "cell_type": "markdown",
      "source": [
        "**3. Disadvantages**\n",
        "\n",
        "More Training Time is required for larger dataset\n",
        "\n",
        "It is difficult to choose a good kernel function\n",
        "\n",
        "The SVM hyper parameters are Cost -C and gamma. It is not that easy to fine-tune these hyper-parameters. It is hard to visualize their impact"
      ],
      "metadata": {
        "id": "HgbiAEoWnLn3"
      }
    },
    {
      "cell_type": "markdown",
      "source": [
        "**4. Whether Feature Scaling is required?**\n",
        "\n",
        "Yes"
      ],
      "metadata": {
        "id": "6ZLznyKnnW1n"
      }
    },
    {
      "cell_type": "markdown",
      "source": [
        "**5. Impact of Missing Values?**\n",
        "\n",
        "\n",
        "Although SVMs are an attractive option when constructing a classifier, SVMs do not easily accommodate missing covariate information. Similar to other \n",
        "prediction and classification methods, in-attention to missing data when constructing an SVM can impact the accuracy and utility of the resulting classifier."
      ],
      "metadata": {
        "id": "zEWp74GPnaBd"
      }
    },
    {
      "cell_type": "markdown",
      "source": [
        "**6. Impact of outliers?**\n",
        "\n",
        "It is usually sensitive to outliers"
      ],
      "metadata": {
        "id": "vNeyPRu0nhs_"
      }
    },
    {
      "cell_type": "markdown",
      "source": [
        "**Types of Problems it can solve(Supervised)**\n",
        "\n",
        "Classification\n",
        "\n",
        "Regression"
      ],
      "metadata": {
        "id": "RjObh8cNnmU2"
      }
    },
    {
      "cell_type": "markdown",
      "source": [
        "**Overfitting And Underfitting**\n",
        "\n",
        "In SVM, to avoid overfitting, we choose a Soft Margin, instead of a Hard one i.e. we let some data points enter our margin intentionally (but we still penalize it) so that our classifier don't overfit on our training sample"
      ],
      "metadata": {
        "id": "0yeFIMRrnqu6"
      }
    },
    {
      "cell_type": "markdown",
      "source": [
        "**Different Problem statement you can solve using Naive Baye's**\n",
        "\n",
        "We can use SVM with every ANN usecases\n",
        "\n",
        "Intrusion Detection\n",
        "\n",
        "Handwriting Recognition"
      ],
      "metadata": {
        "id": "xqhMevnintnF"
      }
    },
    {
      "cell_type": "markdown",
      "source": [
        "**Performance Metrics**\n",
        "\n",
        "**Classification**\n",
        "\n",
        "Confusion Matrix\n",
        "\n",
        "Precision,Recall, F1 score"
      ],
      "metadata": {
        "id": "r_ks4bw3n9Gp"
      }
    },
    {
      "cell_type": "markdown",
      "source": [
        "**Regression**\n",
        "\n",
        "R2,Adjusted R2\n",
        "\n",
        "MSE,RMSE,MAE"
      ],
      "metadata": {
        "id": "L5b8Csb9oFSl"
      }
    }
  ]
}